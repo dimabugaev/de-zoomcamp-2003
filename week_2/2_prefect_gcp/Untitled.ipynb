{
 "cells": [
  {
   "cell_type": "code",
   "execution_count": 2,
   "id": "3d3bd0c7",
   "metadata": {},
   "outputs": [],
   "source": [
    "from pathlib import Path"
   ]
  },
  {
   "cell_type": "code",
   "execution_count": 3,
   "id": "8f8ad2d9",
   "metadata": {},
   "outputs": [],
   "source": [
    "import os"
   ]
  },
  {
   "cell_type": "code",
   "execution_count": 7,
   "id": "6be093af",
   "metadata": {},
   "outputs": [
    {
     "name": "stdout",
     "output_type": "stream",
     "text": [
      "/Users/dmitrybugaev/de-zoomcamp/week_2/2_prefect_gcp\n"
     ]
    },
    {
     "data": {
      "text/plain": [
       "0"
      ]
     },
     "execution_count": 7,
     "metadata": {},
     "output_type": "execute_result"
    }
   ],
   "source": [
    "os.system(\"pwd\")"
   ]
  },
  {
   "cell_type": "code",
   "execution_count": 8,
   "id": "87fa3cd6",
   "metadata": {},
   "outputs": [],
   "source": [
    "path = Path(\"/data/yellow/test.parquet\")"
   ]
  },
  {
   "cell_type": "code",
   "execution_count": 9,
   "id": "3b108c58",
   "metadata": {},
   "outputs": [
    {
     "data": {
      "text/plain": [
       "PosixPath('/data/yellow/test.parquet')"
      ]
     },
     "execution_count": 9,
     "metadata": {},
     "output_type": "execute_result"
    }
   ],
   "source": [
    "path"
   ]
  },
  {
   "cell_type": "code",
   "execution_count": 11,
   "id": "c3ae1068",
   "metadata": {},
   "outputs": [
    {
     "data": {
      "text/plain": [
       "False"
      ]
     },
     "execution_count": 11,
     "metadata": {},
     "output_type": "execute_result"
    }
   ],
   "source": [
    "path.is_file()"
   ]
  },
  {
   "cell_type": "code",
   "execution_count": 12,
   "id": "5eed3296",
   "metadata": {},
   "outputs": [
    {
     "data": {
      "text/plain": [
       "False"
      ]
     },
     "execution_count": 12,
     "metadata": {},
     "output_type": "execute_result"
    }
   ],
   "source": [
    "path.is_dir()"
   ]
  },
  {
   "cell_type": "code",
   "execution_count": 14,
   "id": "4912f837",
   "metadata": {},
   "outputs": [],
   "source": [
    "Path('data/yellow/').mkdir(parents=True)"
   ]
  },
  {
   "cell_type": "code",
   "execution_count": 16,
   "id": "d9a5bf18",
   "metadata": {},
   "outputs": [],
   "source": [
    "Path('data/yellow/').mkdir(parents=True, exist_ok=True)"
   ]
  },
  {
   "cell_type": "code",
   "execution_count": 17,
   "id": "3d990545",
   "metadata": {},
   "outputs": [],
   "source": [
    "Path('data/yellow/').rmdir()"
   ]
  },
  {
   "cell_type": "code",
   "execution_count": 19,
   "id": "16f8a0c9",
   "metadata": {},
   "outputs": [],
   "source": [
    "Path('data/yellow/').mkdir(parents=True, exist_ok=True)"
   ]
  },
  {
   "cell_type": "code",
   "execution_count": 20,
   "id": "332f6618",
   "metadata": {},
   "outputs": [],
   "source": [
    "Path('data/yellow/').rmdir()"
   ]
  },
  {
   "cell_type": "code",
   "execution_count": 21,
   "id": "944ab59b",
   "metadata": {},
   "outputs": [],
   "source": [
    "Path('data').rmdir()"
   ]
  },
  {
   "cell_type": "code",
   "execution_count": 22,
   "id": "4bfb1a32",
   "metadata": {},
   "outputs": [],
   "source": [
    "Path('data/yellow/').mkdir(parents=True, exist_ok=True)"
   ]
  },
  {
   "cell_type": "code",
   "execution_count": 23,
   "id": "358304e2",
   "metadata": {},
   "outputs": [],
   "source": [
    "Path('data/yellow/').rmdir()"
   ]
  },
  {
   "cell_type": "code",
   "execution_count": 24,
   "id": "075b5877",
   "metadata": {},
   "outputs": [],
   "source": [
    "Path('data').rmdir()"
   ]
  },
  {
   "cell_type": "code",
   "execution_count": 25,
   "id": "78ae8db4",
   "metadata": {},
   "outputs": [],
   "source": [
    "Path('data/yellow').mkdir(parents=True, exist_ok=True)"
   ]
  },
  {
   "cell_type": "code",
   "execution_count": 26,
   "id": "a04ca2b7",
   "metadata": {},
   "outputs": [],
   "source": [
    "Path('data/yellow/').rmdir()\n",
    "Path('data').rmdir()"
   ]
  },
  {
   "cell_type": "code",
   "execution_count": 29,
   "id": "fe9b90f5",
   "metadata": {},
   "outputs": [
    {
     "data": {
      "text/plain": [
       "('/', 'data', 'yellow', 'test.parquet')"
      ]
     },
     "execution_count": 29,
     "metadata": {},
     "output_type": "execute_result"
    }
   ],
   "source": [
    "path.parts"
   ]
  },
  {
   "cell_type": "code",
   "execution_count": 31,
   "id": "9bad9188",
   "metadata": {},
   "outputs": [],
   "source": [
    "import pandas as pd"
   ]
  },
  {
   "cell_type": "code",
   "execution_count": 32,
   "id": "ca93e6de",
   "metadata": {},
   "outputs": [],
   "source": [
    "df = pd.read_parquet(\"data/yellow/yellow_tripdata_2021-01.parquet\")"
   ]
  },
  {
   "cell_type": "code",
   "execution_count": 36,
   "id": "0f742dca",
   "metadata": {},
   "outputs": [
    {
     "data": {
      "text/plain": [
       "98352"
      ]
     },
     "execution_count": 36,
     "metadata": {},
     "output_type": "execute_result"
    }
   ],
   "source": [
    "df['passenger_count'].isnull().sum()"
   ]
  },
  {
   "cell_type": "code",
   "execution_count": 37,
   "id": "a1599ba6",
   "metadata": {},
   "outputs": [
    {
     "data": {
      "text/plain": [
       "0          1.0\n",
       "1          1.0\n",
       "2          1.0\n",
       "3          0.0\n",
       "4          1.0\n",
       "          ... \n",
       "1369760    NaN\n",
       "1369761    NaN\n",
       "1369762    NaN\n",
       "1369763    NaN\n",
       "1369764    NaN\n",
       "Name: passenger_count, Length: 1369765, dtype: float64"
      ]
     },
     "execution_count": 37,
     "metadata": {},
     "output_type": "execute_result"
    }
   ],
   "source": [
    "df['passenger_count']"
   ]
  },
  {
   "cell_type": "code",
   "execution_count": 38,
   "id": "9a471a85",
   "metadata": {},
   "outputs": [],
   "source": [
    "del df"
   ]
  },
  {
   "cell_type": "code",
   "execution_count": null,
   "id": "d339f8db",
   "metadata": {},
   "outputs": [],
   "source": []
  }
 ],
 "metadata": {
  "kernelspec": {
   "display_name": "Python 3 (ipykernel)",
   "language": "python",
   "name": "python3"
  },
  "language_info": {
   "codemirror_mode": {
    "name": "ipython",
    "version": 3
   },
   "file_extension": ".py",
   "mimetype": "text/x-python",
   "name": "python",
   "nbconvert_exporter": "python",
   "pygments_lexer": "ipython3",
   "version": "3.9.13"
  }
 },
 "nbformat": 4,
 "nbformat_minor": 5
}
